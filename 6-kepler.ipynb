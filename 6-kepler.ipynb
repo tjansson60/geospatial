{
 "cells": [
  {
   "cell_type": "code",
   "execution_count": 1,
   "metadata": {},
   "outputs": [],
   "source": [
    "import numpy as np\n",
    "import tqdm\n",
    "import pandas as pd\n",
    "from keplergl import KeplerGl\n",
    "import os\n",
    "\n",
    "os.environ['MAPBOX_API_KEY'] = \"...\" # Input something"
   ]
  },
  {
   "cell_type": "markdown",
   "metadata": {},
   "source": [
    "# kepler.gl\n",
    "Kepler.gl is a data-agnostic, high-performance web-based application for visual exploration of large-scale geolocation data sets. Built on top of Mapbox GL and deck.gl, kepler.gl can render millions of points representing thousands of trips and perform spatial aggregations on the fly.\n",
    "\n",
    "https://kepler.gl/\n",
    "\n",
    "**Caveat: This doees not render correctly in jupyter-lab, but works in jupyter-notebook. The output HTML works in either case**"
   ]
  },
  {
   "cell_type": "markdown",
   "metadata": {},
   "source": [
    "# Process data"
   ]
  },
  {
   "cell_type": "code",
   "execution_count": 2,
   "metadata": {},
   "outputs": [
    {
     "name": "stdout",
     "output_type": "stream",
     "text": [
      "2713374\n",
      "25000\n"
     ]
    }
   ],
   "source": [
    "df_raw = pd.read_parquet('data/small.parquet')\n",
    "print(df_raw.shape[0])\n",
    "\n",
    "# Reshape to kepler\n",
    "df = df_raw.sample(25000)\n",
    "print(df.shape[0])\n",
    "df.rename(columns={'altitude_meters': 'altitude'}, inplace=True)\n",
    "df.head()\n",
    "\n",
    "# Reformat datetime to string for JSON serialization\n",
    "df['datetime'] = df['datetime'].astype(str)"
   ]
  },
  {
   "cell_type": "code",
   "execution_count": 3,
   "metadata": {},
   "outputs": [
    {
     "name": "stdout",
     "output_type": "stream",
     "text": [
      "User Guide: https://github.com/keplergl/kepler.gl/blob/master/docs/keplergl-jupyter/user-guide.md\n"
     ]
    },
    {
     "data": {
      "application/vnd.jupyter.widget-view+json": {
       "model_id": "08a6ab66a200489d87e09345859a48d4",
       "version_major": 2,
       "version_minor": 0
      },
      "text/plain": [
       "KeplerGl(config={'version': 'v1', 'config': {'mapState': {'latitude': 39.28960533333335, 'longitude': 116.1992…"
      ]
     },
     "metadata": {},
     "output_type": "display_data"
    }
   ],
   "source": [
    "config = {\n",
    "    'version': 'v1',\n",
    "    'config': {\n",
    "        'mapState': {\n",
    "            'latitude': df.lat.median(),\n",
    "            'longitude': df.lon.median(),\n",
    "            'zoom': 5\n",
    "        }\n",
    "    }\n",
    "}\n",
    "\n",
    "keplermap = KeplerGl(height=900, config=config)\n",
    "\n",
    "# Add the data\n",
    "keplermap.add_data(data=df, name='data1')\n",
    "\n",
    "keplermap"
   ]
  },
  {
   "cell_type": "code",
   "execution_count": 4,
   "metadata": {},
   "outputs": [
    {
     "data": {
      "text/plain": [
       "{'version': 'v1',\n",
       " 'config': {'mapState': {'latitude': 39.28960533333335,\n",
       "   'longitude': 116.1992530833335,\n",
       "   'zoom': 5}}}"
      ]
     },
     "execution_count": 4,
     "metadata": {},
     "output_type": "execute_result"
    }
   ],
   "source": [
    "keplermap.config"
   ]
  },
  {
   "cell_type": "code",
   "execution_count": 5,
   "metadata": {},
   "outputs": [
    {
     "name": "stdout",
     "output_type": "stream",
     "text": [
      "Map saved to data/kepler_gl_map.html!\n"
     ]
    }
   ],
   "source": [
    "# save current map\n",
    "keplermap.save_to_html(file_name=\"data/kepler_gl_map.html\")"
   ]
  }
 ],
 "metadata": {
  "kernelspec": {
   "display_name": "Python 3",
   "language": "python",
   "name": "python3"
  },
  "language_info": {
   "codemirror_mode": {
    "name": "ipython",
    "version": 3
   },
   "file_extension": ".py",
   "mimetype": "text/x-python",
   "name": "python",
   "nbconvert_exporter": "python",
   "pygments_lexer": "ipython3",
   "version": "3.7.3"
  }
 },
 "nbformat": 4,
 "nbformat_minor": 4
}
